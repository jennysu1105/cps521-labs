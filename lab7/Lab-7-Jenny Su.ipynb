{
 "cells": [
  {
   "cell_type": "code",
   "execution_count": 3,
   "id": "d60a109c-9a7f-442f-a07c-854b01362ff9",
   "metadata": {},
   "outputs": [
    {
     "name": "stdout",
     "output_type": "stream",
     "text": [
      "1.1: The margin is the distance between the two margin hyperplanes H+ and H- and the hyperplane.\n",
      "     H+ passes through x+ (closest point to hyperplane w^Tx + b = 0):\n",
      "         W^T x + b = 1\n",
      "     H- passes through x- (closest point to hyperplane w^Tx + b = 0):\n",
      "         W^T x + b = -1\n",
      "\n",
      "1.2: The H- hyperplane is the line passing through the two points and the H+ hyperplane passes through the single point.\n",
      "     p1 = (2,0) p2=(0,2) - w1/w2 = (y2-x2)/(y1-x1) = (2-0)/(0-2) = -1\n",
      "     The decision boundary is halfway between H+ and H- and the equation is -x + 2 = 0\n",
      "     The H+ hyperplane equation is: -x + 2.5 = 1\n",
      "     The H- hyperplane equation is: -x + 1.5 = -1\n",
      "\n",
      "1.3: The kernal function calculates the similarity between two data points without actually computing the coordinates of the data points\n",
      "     Using the kernal function, the SVM can proform nonlinear classification tasks\n",
      "     Some types of kernal functions are: linear, polynomial and radial basis function\n"
     ]
    }
   ],
   "source": [
    "#Exercise 1\n",
    "print(\"1.1: The margin is the distance between the two margin hyperplanes H+ and H- and the hyperplane.\")\n",
    "print(\"     H+ passes through x+ (closest point to hyperplane w^Tx + b = 0):\")\n",
    "print(\"         W^T x + b = 1\")\n",
    "print(\"     H- passes through x- (closest point to hyperplane w^Tx + b = 0):\")\n",
    "print(\"         W^T x + b = -1\")\n",
    "\n",
    "print(\"\\n1.2: The H- hyperplane is the line passing through the two points and the H+ hyperplane passes through the single point.\")\n",
    "print(\"     p1 = (2,0) p2=(0,2) - w1/w2 = (y2-x2)/(y1-x1) = (2-0)/(0-2) = -1\")\n",
    "print(\"     The decision boundary is halfway between H+ and H- and the equation is -x + 2 = 0\")\n",
    "print(\"     The H+ hyperplane equation is: -x + 2.5 = 1\")\n",
    "print(\"     The H- hyperplane equation is: -x + 1.5 = -1\")\n",
    "\n",
    "print(\"\\n1.3: The kernal function calculates the similarity between two data points without actually computing the coordinates of the data points\")\n",
    "print(\"     Using the kernal function, the SVM can proform nonlinear classification tasks\")\n",
    "print(\"     Some types of kernal functions are: linear, polynomial and radial basis function\")"
   ]
  },
  {
   "cell_type": "code",
   "execution_count": 38,
   "id": "1397b3d7-1100-4264-a59a-b28df4416926",
   "metadata": {},
   "outputs": [
    {
     "name": "stdout",
     "output_type": "stream",
     "text": [
      "Gaussian kernel SVM model\n",
      "\n",
      "Accuracy: 0.6\n",
      "\n",
      "Confusion Matrix:\n",
      "[[36  0  0  0  0]\n",
      " [ 9  0  0  0  0]\n",
      " [ 5  0  0  0  0]\n",
      " [ 7  0  0  0  0]\n",
      " [ 3  0  0  0  0]]\n",
      "\n",
      "Classification Report:\n",
      "              precision    recall  f1-score   support\n",
      "\n",
      "           0       0.60      1.00      0.75        36\n",
      "           1       0.00      0.00      0.00         9\n",
      "           2       0.00      0.00      0.00         5\n",
      "           3       0.00      0.00      0.00         7\n",
      "           4       0.00      0.00      0.00         3\n",
      "\n",
      "    accuracy                           0.60        60\n",
      "   macro avg       0.12      0.20      0.15        60\n",
      "weighted avg       0.36      0.60      0.45        60\n",
      "\n"
     ]
    },
    {
     "name": "stderr",
     "output_type": "stream",
     "text": [
      "/Users/jennysu/opt/anaconda3/lib/python3.9/site-packages/sklearn/metrics/_classification.py:1318: UndefinedMetricWarning: Precision and F-score are ill-defined and being set to 0.0 in labels with no predicted samples. Use `zero_division` parameter to control this behavior.\n",
      "  _warn_prf(average, modifier, msg_start, len(result))\n",
      "/Users/jennysu/opt/anaconda3/lib/python3.9/site-packages/sklearn/metrics/_classification.py:1318: UndefinedMetricWarning: Precision and F-score are ill-defined and being set to 0.0 in labels with no predicted samples. Use `zero_division` parameter to control this behavior.\n",
      "  _warn_prf(average, modifier, msg_start, len(result))\n",
      "/Users/jennysu/opt/anaconda3/lib/python3.9/site-packages/sklearn/metrics/_classification.py:1318: UndefinedMetricWarning: Precision and F-score are ill-defined and being set to 0.0 in labels with no predicted samples. Use `zero_division` parameter to control this behavior.\n",
      "  _warn_prf(average, modifier, msg_start, len(result))\n"
     ]
    },
    {
     "name": "stdout",
     "output_type": "stream",
     "text": [
      "Linear kernel SVM model\n",
      "\n",
      "Accuracy: 0.6166666666666667\n",
      "\n",
      "Confusion Matrix:\n",
      "[[35  0  0  1  0]\n",
      " [ 6  0  1  1  1]\n",
      " [ 1  1  2  1  0]\n",
      " [ 1  2  2  0  2]\n",
      " [ 2  0  0  1  0]]\n",
      "\n",
      "Classification Report:\n",
      "              precision    recall  f1-score   support\n",
      "\n",
      "           0       0.78      0.97      0.86        36\n",
      "           1       0.00      0.00      0.00         9\n",
      "           2       0.40      0.40      0.40         5\n",
      "           3       0.00      0.00      0.00         7\n",
      "           4       0.00      0.00      0.00         3\n",
      "\n",
      "    accuracy                           0.62        60\n",
      "   macro avg       0.24      0.27      0.25        60\n",
      "weighted avg       0.50      0.62      0.55        60\n",
      "\n",
      "Sigmoid kernel SVM model\n",
      "\n",
      "Accuracy: 0.6\n",
      "\n",
      "Confusion Matrix:\n",
      "[[36  0  0  0  0]\n",
      " [ 9  0  0  0  0]\n",
      " [ 5  0  0  0  0]\n",
      " [ 7  0  0  0  0]\n",
      " [ 3  0  0  0  0]]\n",
      "\n",
      "Classification Report:\n",
      "              precision    recall  f1-score   support\n",
      "\n",
      "           0       0.60      1.00      0.75        36\n",
      "           1       0.00      0.00      0.00         9\n",
      "           2       0.00      0.00      0.00         5\n",
      "           3       0.00      0.00      0.00         7\n",
      "           4       0.00      0.00      0.00         3\n",
      "\n",
      "    accuracy                           0.60        60\n",
      "   macro avg       0.12      0.20      0.15        60\n",
      "weighted avg       0.36      0.60      0.45        60\n",
      "\n"
     ]
    },
    {
     "name": "stderr",
     "output_type": "stream",
     "text": [
      "/Users/jennysu/opt/anaconda3/lib/python3.9/site-packages/sklearn/metrics/_classification.py:1318: UndefinedMetricWarning: Precision and F-score are ill-defined and being set to 0.0 in labels with no predicted samples. Use `zero_division` parameter to control this behavior.\n",
      "  _warn_prf(average, modifier, msg_start, len(result))\n",
      "/Users/jennysu/opt/anaconda3/lib/python3.9/site-packages/sklearn/metrics/_classification.py:1318: UndefinedMetricWarning: Precision and F-score are ill-defined and being set to 0.0 in labels with no predicted samples. Use `zero_division` parameter to control this behavior.\n",
      "  _warn_prf(average, modifier, msg_start, len(result))\n",
      "/Users/jennysu/opt/anaconda3/lib/python3.9/site-packages/sklearn/metrics/_classification.py:1318: UndefinedMetricWarning: Precision and F-score are ill-defined and being set to 0.0 in labels with no predicted samples. Use `zero_division` parameter to control this behavior.\n",
      "  _warn_prf(average, modifier, msg_start, len(result))\n"
     ]
    }
   ],
   "source": [
    "#Exercise 2\n",
    "import pandas\n",
    "import numpy \n",
    "import matplotlib.pyplot as plt\n",
    "from sklearn import svm\n",
    "from sklearn.model_selection import train_test_split, cross_val_score\n",
    "from sklearn.metrics import classification_report, confusion_matrix\n",
    "\n",
    "data = pandas.read_csv('heart-disease-dataset1.csv')\n",
    "data = data.replace('?', numpy.nan)\n",
    "data = data.dropna()\n",
    "\n",
    "x = data.drop(\"result\", axis=1)\n",
    "y = data['result']\n",
    "\n",
    "X_train_1, X_test_1, Y_train_1, Y_test_1 = train_test_split(x, y, test_size=0.2, random_state=42)\n",
    "\n",
    "sm = svm.SVC(kernel='rbf')\n",
    "\n",
    "sm.fit(X_train_1, Y_train_1)\n",
    "\n",
    "y_pred = sm.predict(X_test_1)\n",
    "\n",
    "print(\"Gaussian kernel SVM model\")\n",
    "print(\"\\nAccuracy: \" + str(sm.score(X_test_1, Y_test_1)))\n",
    "print(\"\\nConfusion Matrix:\")\n",
    "print(confusion_matrix(Y_test_1, y_pred))\n",
    "print(\"\\nClassification Report:\")\n",
    "print(classification_report(Y_test_1, y_pred))\n",
    "\n",
    "sm = svm.SVC(kernel='linear')\n",
    "\n",
    "sm.fit(X_train_1, Y_train_1)\n",
    "\n",
    "y_pred = sm.predict(X_test_1)\n",
    "\n",
    "print(\"Linear kernel SVM model\")\n",
    "print(\"\\nAccuracy: \" + str(sm.score(X_test_1, Y_test_1)))\n",
    "print(\"\\nConfusion Matrix:\")\n",
    "print(confusion_matrix(Y_test_1, y_pred))\n",
    "print(\"\\nClassification Report:\")\n",
    "print(classification_report(Y_test_1, y_pred))\n",
    "\n",
    "sm = svm.SVC(kernel='sigmoid')\n",
    "\n",
    "sm.fit(X_train_1, Y_train_1)\n",
    "\n",
    "y_pred = sm.predict(X_test_1)\n",
    "\n",
    "print(\"Sigmoid kernel SVM model\")\n",
    "print(\"\\nAccuracy: \" + str(sm.score(X_test_1, Y_test_1)))\n",
    "print(\"\\nConfusion Matrix:\")\n",
    "print(confusion_matrix(Y_test_1, y_pred))\n",
    "print(\"\\nClassification Report:\")\n",
    "print(classification_report(Y_test_1, y_pred))"
   ]
  },
  {
   "cell_type": "code",
   "execution_count": 32,
   "id": "1694ee1d-5f81-4652-9ae3-44c769d1aa4b",
   "metadata": {},
   "outputs": [
    {
     "name": "stdout",
     "output_type": "stream",
     "text": [
      "Adam Gradient Descent Neural Network\n",
      "\n",
      "Accuracy: 0.6166666666666667\n",
      "\n",
      "Confusion Matrix:\n",
      "[[33  3  0  0  0]\n",
      " [ 2  1  0  2  0]\n",
      " [ 2  3  0  4  1]\n",
      " [ 1  2  0  3  1]\n",
      " [ 1  0  0  1  0]]\n",
      "\n",
      "Classification Report:\n",
      "              precision    recall  f1-score   support\n",
      "\n",
      "           0       0.85      0.92      0.88        36\n",
      "           1       0.11      0.20      0.14         5\n",
      "           2       0.00      0.00      0.00        10\n",
      "           3       0.30      0.43      0.35         7\n",
      "           4       0.00      0.00      0.00         2\n",
      "\n",
      "    accuracy                           0.62        60\n",
      "   macro avg       0.25      0.31      0.28        60\n",
      "weighted avg       0.55      0.62      0.58        60\n",
      "\n"
     ]
    },
    {
     "name": "stderr",
     "output_type": "stream",
     "text": [
      "/Users/jennysu/opt/anaconda3/lib/python3.9/site-packages/sklearn/metrics/_classification.py:1318: UndefinedMetricWarning: Precision and F-score are ill-defined and being set to 0.0 in labels with no predicted samples. Use `zero_division` parameter to control this behavior.\n",
      "  _warn_prf(average, modifier, msg_start, len(result))\n",
      "/Users/jennysu/opt/anaconda3/lib/python3.9/site-packages/sklearn/metrics/_classification.py:1318: UndefinedMetricWarning: Precision and F-score are ill-defined and being set to 0.0 in labels with no predicted samples. Use `zero_division` parameter to control this behavior.\n",
      "  _warn_prf(average, modifier, msg_start, len(result))\n",
      "/Users/jennysu/opt/anaconda3/lib/python3.9/site-packages/sklearn/metrics/_classification.py:1318: UndefinedMetricWarning: Precision and F-score are ill-defined and being set to 0.0 in labels with no predicted samples. Use `zero_division` parameter to control this behavior.\n",
      "  _warn_prf(average, modifier, msg_start, len(result))\n"
     ]
    }
   ],
   "source": [
    "from sklearn.neural_network import MLPClassifier\n",
    "\n",
    "clf = MLPClassifier(solver='adam', random_state=42, max_iter=1000)\n",
    "\n",
    "clf.fit(X_train_1, Y_train_1)\n",
    "\n",
    "y_pred = clf.predict(X_test_1)\n",
    "\n",
    "print(\"Adam Gradient Descent Neural Network\")\n",
    "print(\"\\nAccuracy: \" + str(clf.score(X_test_1, Y_test_1)))\n",
    "print(\"\\nConfusion Matrix:\")\n",
    "print(confusion_matrix(Y_test_1, y_pred))\n",
    "print(\"\\nClassification Report:\")\n",
    "print(classification_report(Y_test_1, y_pred))"
   ]
  },
  {
   "cell_type": "code",
   "execution_count": 35,
   "id": "3d94cd34-5fa7-4cc4-bebd-fef82dc12aec",
   "metadata": {},
   "outputs": [
    {
     "name": "stdout",
     "output_type": "stream",
     "text": [
      "The best model is the Linear Kernal SVM model because the accuracy score, weighted averages for percision, recall and f1-score is the highest among all the models.\n"
     ]
    }
   ],
   "source": [
    "print(\"The best model is the Linear Kernal SVM model because the accuracy score, weighted averages for percision, recall and f1-score is the highest among all the models.\")"
   ]
  },
  {
   "cell_type": "code",
   "execution_count": null,
   "id": "f0893beb-8cf0-4db9-8b71-3ce3fbd1be2a",
   "metadata": {},
   "outputs": [],
   "source": []
  }
 ],
 "metadata": {
  "kernelspec": {
   "display_name": "Python 3 (ipykernel)",
   "language": "python",
   "name": "python3"
  },
  "language_info": {
   "codemirror_mode": {
    "name": "ipython",
    "version": 3
   },
   "file_extension": ".py",
   "mimetype": "text/x-python",
   "name": "python",
   "nbconvert_exporter": "python",
   "pygments_lexer": "ipython3",
   "version": "3.9.13"
  }
 },
 "nbformat": 4,
 "nbformat_minor": 5
}
