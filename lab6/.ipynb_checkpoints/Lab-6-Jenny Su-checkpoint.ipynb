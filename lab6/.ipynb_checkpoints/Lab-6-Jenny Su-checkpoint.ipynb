{
 "cells": [
  {
   "cell_type": "code",
   "execution_count": 8,
   "id": "caed31a0-302b-493c-9e51-f85262053760",
   "metadata": {},
   "outputs": [
    {
     "name": "stdout",
     "output_type": "stream",
     "text": [
      "AND function:\n",
      "[0, 0]: [0]\n",
      "[0, 1]: [0]\n",
      "[1, 0]: [0]\n",
      "[1, 1]: [1]\n",
      "OR function:\n",
      "[0, 0]: [0]\n",
      "[0, 1]: [1]\n",
      "[1, 0]: [1]\n",
      "[1, 1]: [1]\n"
     ]
    }
   ],
   "source": [
    "from sklearn.linear_model import Perceptron\n",
    "import numpy as np\n",
    "and_input = np.array([[0, 0], [0, 1], [1, 0], [1, 1]])\n",
    "and_output = np.array([0, 0, 0, 1])\n",
    "or_input = np.array([[0, 0], [0, 1], [1, 0], [1, 1]])\n",
    "or_output = np.array([0, 1, 1, 1])\n",
    "\n",
    "and_nn = Perceptron(tol=1e-3, random_state=0)\n",
    "and_nn.fit(and_input, and_output)\n",
    "\n",
    "or_nn = Perceptron(tol=1e-3, random_state=0)\n",
    "or_nn.fit(or_input, or_output)\n",
    "\n",
    "print(\"AND function:\")\n",
    "print(\"[0, 0]: \" + str(and_nn.predict([[0,0]])))\n",
    "print(\"[0, 1]: \" + str(and_nn.predict([[0,1]])))\n",
    "print(\"[1, 0]: \" + str(and_nn.predict([[1,0]])))\n",
    "print(\"[1, 1]: \" + str(and_nn.predict([[1,1]])))\n",
    "\n",
    "print(\"OR function:\")\n",
    "print(\"[0, 0]: \" + str(or_nn.predict([[0,0]])))\n",
    "print(\"[0, 1]: \" + str(or_nn.predict([[0,1]])))\n",
    "print(\"[1, 0]: \" + str(or_nn.predict([[1,0]])))\n",
    "print(\"[1, 1]: \" + str(or_nn.predict([[1,1]])))"
   ]
  },
  {
   "cell_type": "code",
   "execution_count": null,
   "id": "3e07d96a-dc4b-438e-959a-4baeb0449d07",
   "metadata": {},
   "outputs": [],
   "source": []
  }
 ],
 "metadata": {
  "kernelspec": {
   "display_name": "Python 3 (ipykernel)",
   "language": "python",
   "name": "python3"
  },
  "language_info": {
   "codemirror_mode": {
    "name": "ipython",
    "version": 3
   },
   "file_extension": ".py",
   "mimetype": "text/x-python",
   "name": "python",
   "nbconvert_exporter": "python",
   "pygments_lexer": "ipython3",
   "version": "3.9.13"
  }
 },
 "nbformat": 4,
 "nbformat_minor": 5
}
