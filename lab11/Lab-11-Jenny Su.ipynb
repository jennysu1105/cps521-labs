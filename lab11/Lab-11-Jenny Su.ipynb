{
 "cells": [
  {
   "cell_type": "code",
   "execution_count": 58,
   "id": "e8633105-cad7-48eb-b623-157ea0c730d6",
   "metadata": {},
   "outputs": [
    {
     "name": "stdout",
     "output_type": "stream",
     "text": [
      "Step 1: take A as the root node\n",
      "[A-1, B-2, C-3, H-4, D-5, I-6, G-7, E-8, F-9]\n",
      "\n",
      "Step 2:\n",
      "A: 1, B: 1, C: 1, H: 1, D: 1, I: 1, G: 1, E: 1, F: 1\n",
      "\n",
      "Step 3:\n",
      "(1, 2) 0.5555555555555556\n",
      "(1, 3) 0.5555555555555556\n",
      "(2, 4) 0.5\n",
      "(3, 5) 0.5\n",
      "(4, 6) 0.2222222222222222\n",
      "(4, 7) 0.2222222222222222\n",
      "(5, 8) 0.2222222222222222\n",
      "(5, 9) 0.2222222222222222\n",
      "\n",
      "Communities:\n",
      "({1, 3, 5, 8, 9}, {2, 4, 6, 7})\n",
      "({1, 3}, {2, 4, 6, 7}, {8, 9, 5})\n",
      "({1, 3}, {2}, {4, 6, 7}, {8, 9, 5})\n",
      "({1, 3}, {2}, {4, 7}, {8, 9, 5}, {6})\n",
      "({1, 3}, {2}, {4, 7}, {9, 5}, {6}, {8})\n",
      "({1}, {2}, {3}, {4, 7}, {9, 5}, {6}, {8})\n",
      "({1}, {2}, {3}, {4}, {9, 5}, {6}, {7}, {8})\n",
      "({1}, {2}, {3}, {4}, {5}, {6}, {7}, {8}, {9})\n"
     ]
    }
   ],
   "source": [
    "import networkx as nx\n",
    "from networkx.algorithms.community.centrality import girvan_newman\n",
    "\n",
    "g = nx.Graph()\n",
    "edges = [(1,2), (1,3), (2,4), (3,5), (4,6), (4,7), (5,8), (5,9)] \n",
    "g.add_edges_from(edges)\n",
    "\n",
    "print(\"Step 1: take A as the root node\")\n",
    "print(\"[A-1, B-2, C-3, H-4, D-5, I-6, G-7, E-8, F-9]\")\n",
    "\n",
    "print(\"\\nStep 2:\")\n",
    "print(\"A: 1, B: 1, C: 1, H: 1, D: 1, I: 1, G: 1, E: 1, F: 1\")\n",
    "\n",
    "print(\"\\nStep 3:\")\n",
    "betweenness = nx.edge_betweenness_centrality(g)\n",
    "for edge, centrality in betweenness.items():\n",
    "    print(edge, centrality)\n",
    "\n",
    "print(\"\\nCommunities:\")\n",
    "communities = tuple(girvan_newman(g))\n",
    "for c in communities:\n",
    "    print(c)"
   ]
  },
  {
   "cell_type": "code",
   "execution_count": 55,
   "id": "5b57689c-6b09-4b51-951e-74e45e1f3331",
   "metadata": {},
   "outputs": [
    {
     "name": "stdout",
     "output_type": "stream",
     "text": [
      "Louvain Algorithm\n",
      "[{1, 2, 3}, {4, 6, 7}, {8, 9, 5}]\n"
     ]
    }
   ],
   "source": [
    "print(\"Louvain Algorithm\")\n",
    "g = nx.Graph()\n",
    "edges = [(1,2), (1,3), (2,3), (2,4), (3,5), (4,6), (4,7), (6,7), (7,8), (5,8), (5,9), (8,9)] \n",
    "g.add_edges_from(edges)\n",
    "community = nx.community.louvain_communities(g)\n",
    "print(community)"
   ]
  },
  {
   "cell_type": "code",
   "execution_count": 56,
   "id": "ce3bab86-4339-4f6c-8058-d8d99c7e4bb8",
   "metadata": {},
   "outputs": [
    {
     "name": "stdout",
     "output_type": "stream",
     "text": [
      "Greedy Modularity Communities Algorithm\n",
      "[frozenset({1, 2, 3}), frozenset({4, 6, 7}), frozenset({8, 9, 5})]\n"
     ]
    }
   ],
   "source": [
    "print(\"Greedy Modularity Communities Algorithm\")\n",
    "g = nx.Graph()\n",
    "edges = [(1,2), (1,3), (2,3), (2,4), (3,5), (4,6), (4,7), (6,7), (7,8), (5,8), (5,9), (8,9)] \n",
    "g.add_edges_from(edges)\n",
    "community = nx.community.greedy_modularity_communities(g)\n",
    "print(community)"
   ]
  },
  {
   "cell_type": "code",
   "execution_count": null,
   "id": "acae864c-b4a7-41ac-b7d3-6a6fcf334ce4",
   "metadata": {},
   "outputs": [],
   "source": []
  }
 ],
 "metadata": {
  "kernelspec": {
   "display_name": "Python 3 (ipykernel)",
   "language": "python",
   "name": "python3"
  },
  "language_info": {
   "codemirror_mode": {
    "name": "ipython",
    "version": 3
   },
   "file_extension": ".py",
   "mimetype": "text/x-python",
   "name": "python",
   "nbconvert_exporter": "python",
   "pygments_lexer": "ipython3",
   "version": "3.9.13"
  }
 },
 "nbformat": 4,
 "nbformat_minor": 5
}
