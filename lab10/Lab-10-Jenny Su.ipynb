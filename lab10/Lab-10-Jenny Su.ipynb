{
 "cells": [
  {
   "cell_type": "code",
   "execution_count": 1,
   "id": "be244bd5-f562-454f-adb0-23f5c4238968",
   "metadata": {},
   "outputs": [
    {
     "name": "stderr",
     "output_type": "stream",
     "text": [
      "[nltk_data] Downloading package stopwords to\n",
      "[nltk_data]     /Users/jennysu/nltk_data...\n",
      "[nltk_data]   Package stopwords is already up-to-date!\n",
      "[nltk_data] Downloading package punkt to /Users/jennysu/nltk_data...\n",
      "[nltk_data]   Package punkt is already up-to-date!\n",
      "[nltk_data] Downloading package wordnet to /Users/jennysu/nltk_data...\n",
      "[nltk_data]   Package wordnet is already up-to-date!\n",
      "[nltk_data] Downloading package omw-1.4 to /Users/jennysu/nltk_data...\n",
      "[nltk_data]   Package omw-1.4 is already up-to-date!\n"
     ]
    },
    {
     "data": {
      "text/plain": [
       "True"
      ]
     },
     "execution_count": 1,
     "metadata": {},
     "output_type": "execute_result"
    }
   ],
   "source": [
    "import pandas\n",
    "import re\n",
    "import nltk\n",
    "nltk.download('stopwords')\n",
    "nltk.download('punkt')\n",
    "nltk.download('wordnet')\n",
    "nltk.download('omw-1.4')"
   ]
  },
  {
   "cell_type": "code",
   "execution_count": 5,
   "id": "83262ee5-83e6-4023-ae22-ecc74580d158",
   "metadata": {},
   "outputs": [],
   "source": [
    "from nltk.corpus import stopwords\n",
    "from nltk import word_tokenize\n",
    "from nltk.stem.porter import *\n",
    "from nltk.stem.wordnet import WordNetLemmatizer\n",
    "\n",
    "stemmer = PorterStemmer()\n",
    "lemmatizer = WordNetLemmatizer()\n",
    "\n",
    "file = pandas.read_csv('musical1.tsv', sep='\\t')\n",
    "sentences = file['Review']\n",
    "corpus = []\n",
    "\n",
    "for sentence in sentences:\n",
    "    sentence = sentence.lower()\n",
    "    words = word_tokenize(sentence)\n",
    "    words = [stemmer.stem(word) for word in words if word not in set(stopwords.words('english'))]\n",
    "    words = [lemmatizer.lemmatize(word.lower()) for word in words]\n",
    "    sentence = ' '.join(words)\n",
    "    corpus.append(sentence)"
   ]
  },
  {
   "cell_type": "code",
   "execution_count": 9,
   "id": "11c2b591-ff13-4805-80cf-def7fcc9fc16",
   "metadata": {},
   "outputs": [
    {
     "name": "stderr",
     "output_type": "stream",
     "text": [
      "/Users/jennysu/opt/anaconda3/lib/python3.9/site-packages/sklearn/utils/deprecation.py:87: FutureWarning: Function get_feature_names is deprecated; get_feature_names is deprecated in 1.0 and will be removed in 1.2. Please use get_feature_names_out instead.\n",
      "  warnings.warn(msg, category=FutureWarning)\n"
     ]
    },
    {
     "name": "stdout",
     "output_type": "stream",
     "text": [
      "\n",
      "Accuracy: 0.8\n",
      "Precision score: 0.8303571428571429\n",
      "F1-score: 0.8230088495575222\n",
      "\n",
      "Classification Report:\n",
      "              precision    recall  f1-score   support\n",
      "\n",
      "           0       0.76      0.78      0.77        86\n",
      "           1       0.83      0.82      0.82       114\n",
      "\n",
      "    accuracy                           0.80       200\n",
      "   macro avg       0.80      0.80      0.80       200\n",
      "weighted avg       0.80      0.80      0.80       200\n",
      "\n"
     ]
    }
   ],
   "source": [
    "from sklearn.ensemble import RandomForestClassifier\n",
    "from sklearn.model_selection import train_test_split, cross_val_score\n",
    "from sklearn.metrics import accuracy_score, classification_report, f1_score, precision_score\n",
    "from sklearn.feature_extraction.text import TfidfVectorizer\n",
    "\n",
    "v = TfidfVectorizer(norm='l2')\n",
    "tfidf = v.fit_transform(corpus)\n",
    "dp  = pandas.DataFrame(tfidf.toarray(), columns=v.get_feature_names())\n",
    "y = file['Score']\n",
    "X_train, X_test, Y_train, Y_test = train_test_split(dp, y, test_size=0.2, random_state=42)\n",
    "\n",
    "rf_gini = RandomForestClassifier(criterion='gini', random_state=42)\n",
    "rf_gini.fit(X_train, Y_train)\n",
    "\n",
    "y_pred = rf_gini.predict(X_test)\n",
    "\n",
    "print(\"\\nAccuracy: \" + str(accuracy_score(Y_test, y_pred)))\n",
    "print(\"Precision score: \"+ str(precision_score(Y_test, y_pred)))\n",
    "print(\"F1-score: \" + str(f1_score(Y_test, y_pred)))\n",
    "print(\"\\nClassification Report:\")\n",
    "print(classification_report(Y_test, y_pred))"
   ]
  },
  {
   "cell_type": "code",
   "execution_count": 10,
   "id": "fdb5c750-f47b-4c2b-aa1d-a88eb28c154e",
   "metadata": {},
   "outputs": [
    {
     "name": "stdout",
     "output_type": "stream",
     "text": [
      "The model did very well since the accuracy, precision and F1-score are all 80%+\n"
     ]
    }
   ],
   "source": [
    "print(\"The model did very well since the accuracy, precision and F1-score are all 80%+\")"
   ]
  },
  {
   "cell_type": "code",
   "execution_count": null,
   "id": "c857be95-8469-45aa-b551-53e37eeb8579",
   "metadata": {},
   "outputs": [],
   "source": []
  }
 ],
 "metadata": {
  "kernelspec": {
   "display_name": "Python 3 (ipykernel)",
   "language": "python",
   "name": "python3"
  },
  "language_info": {
   "codemirror_mode": {
    "name": "ipython",
    "version": 3
   },
   "file_extension": ".py",
   "mimetype": "text/x-python",
   "name": "python",
   "nbconvert_exporter": "python",
   "pygments_lexer": "ipython3",
   "version": "3.9.13"
  }
 },
 "nbformat": 4,
 "nbformat_minor": 5
}
